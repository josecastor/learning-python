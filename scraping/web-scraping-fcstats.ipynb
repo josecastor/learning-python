{
 "cells": [
  {
   "cell_type": "code",
   "execution_count": 11,
   "metadata": {},
   "outputs": [
    {
     "name": "stdout",
     "output_type": "stream",
     "text": [
      "Requirement already satisfied: beautifulsoup4 in /opt/conda/lib/python3.7/site-packages (4.8.2)\n",
      "Requirement already satisfied: requests in /opt/conda/lib/python3.7/site-packages (2.22.0)\n",
      "Requirement already satisfied: pandas in /opt/conda/lib/python3.7/site-packages (0.23.4)\n",
      "Requirement already satisfied: soupsieve>=1.2 in /opt/conda/lib/python3.7/site-packages (from beautifulsoup4) (1.9.5)\n",
      "Requirement already satisfied: chardet<3.1.0,>=3.0.2 in /opt/conda/lib/python3.7/site-packages (from requests) (3.0.4)\n",
      "Requirement already satisfied: idna<2.9,>=2.5 in /opt/conda/lib/python3.7/site-packages (from requests) (2.8)\n",
      "Requirement already satisfied: urllib3!=1.25.0,!=1.25.1,<1.26,>=1.21.1 in /opt/conda/lib/python3.7/site-packages (from requests) (1.25.7)\n",
      "Requirement already satisfied: certifi>=2017.4.17 in /opt/conda/lib/python3.7/site-packages (from requests) (2019.11.28)\n",
      "Requirement already satisfied: pytz>=2011k in /opt/conda/lib/python3.7/site-packages (from pandas) (2019.3)\n",
      "Requirement already satisfied: python-dateutil>=2.5.0 in /opt/conda/lib/python3.7/site-packages (from pandas) (2.8.1)\n",
      "Requirement already satisfied: numpy>=1.9.0 in /opt/conda/lib/python3.7/site-packages (from pandas) (1.16.3)\n",
      "Requirement already satisfied: six>=1.5 in /opt/conda/lib/python3.7/site-packages (from python-dateutil>=2.5.0->pandas) (1.13.0)\n",
      "Note: you may need to restart the kernel to use updated packages.\n"
     ]
    }
   ],
   "source": [
    "pip install beautifulsoup4 requests pandas"
   ]
  },
  {
   "cell_type": "code",
   "execution_count": 12,
   "metadata": {},
   "outputs": [],
   "source": [
    "# Import library\n",
    "import bs4\n",
    "import pandas as pd\n",
    "import requests"
   ]
  },
  {
   "cell_type": "code",
   "execution_count": 13,
   "metadata": {},
   "outputs": [],
   "source": [
    "url = 'https://fcstats.com/table,premier-league-england,1,1.php'"
   ]
  },
  {
   "cell_type": "code",
   "execution_count": 14,
   "metadata": {},
   "outputs": [],
   "source": [
    "def get_page_contents(url):\n",
    "    page = requests.get(url, headers={\"Accept-Language\": \"en-US\"})\n",
    "    return bs4.BeautifulSoup(page.text, \"html.parser\")"
   ]
  },
  {
   "cell_type": "code",
   "execution_count": 15,
   "metadata": {},
   "outputs": [],
   "source": [
    "soup = get_page_contents(url)\n",
    "# print(soup.prettify())"
   ]
  },
  {
   "cell_type": "code",
   "execution_count": 16,
   "metadata": {},
   "outputs": [],
   "source": [
    "tableResult = soup.findAll('table', class_='table evenOdd sortable tips')\n",
    "# tableResult"
   ]
  },
  {
   "cell_type": "code",
   "execution_count": 17,
   "metadata": {},
   "outputs": [
    {
     "data": {
      "text/plain": [
       "<tr class=\"greenHover\" id=\"team_11\">\n",
       "<td style=\"background-color: #96b900 !important; color: #fff;\" title=\"UEFA Champions League\">1</td>\n",
       "<td class=\"teamName\"><a href=\"club,statistics,liverpool,11.php\">Liverpool</a></td> <td class=\"leftBorder\">22</td>\n",
       "<td>21</td>\n",
       "<td>1</td>\n",
       "<td>0</td>\n",
       "<td>52</td>\n",
       "<td>14</td>\n",
       "<td class=\"leftBorder rightBorder darkBackground\">64</td>\n",
       "<td class=\"leftBorder leftText sequencesMatches\">\n",
       "<a href=\"match,leicester-city,liverpool,389409.php\" id=\"match_389409_opponent_30\" title=\"Leicester City - Liverpool 0:4\">\n",
       "<span class=\"boxIcon boxIconW\"></span> </a>\n",
       "<a href=\"match,liverpool,wolverhampton-wanderers,389417.php\" id=\"match_389417_opponent_20\" title=\"Liverpool - Wolverhampton Wanderers 1:0\">\n",
       "<span class=\"boxIcon boxIconW\"></span> </a>\n",
       "<a href=\"match,liverpool,sheffield-united,389427.php\" id=\"match_389427_opponent_40\" title=\"Liverpool - Sheffield United 2:0\">\n",
       "<span class=\"boxIcon boxIconW\"></span> </a>\n",
       "<a href=\"match,tottenham-hotspur,liverpool,389442.php\" id=\"match_389442_opponent_17\" title=\"Tottenham Hotspur - Liverpool 0:1\">\n",
       "<span class=\"boxIcon boxIconW\"></span> </a>\n",
       "<a href=\"match,liverpool,manchester-united,389447.php\" id=\"match_389447_opponent_13\" title=\"Liverpool - Manchester United 2:0\">\n",
       "<span class=\"boxIcon boxIconW\"></span> </a>\n",
       "<a href=\"match,wolverhampton-wanderers,liverpool,389459.php\" id=\"match_389459_opponent_20\" title=\"Wolverhampton Wanderers - Liverpool\">\n",
       "<span class=\"boxIcon boxIconQM\"></span> </a>\n",
       "<a href=\"comparison,wolverhampton-wanderers,liverpool,20,11.php\" id=\"h2h_389459_opponent_20\">\n",
       "<span class=\"boxIcon boxIconH2H\"></span>\n",
       "</a>\n",
       "</td>\n",
       "</tr>"
      ]
     },
     "execution_count": 17,
     "metadata": {},
     "output_type": "execute_result"
    }
   ],
   "source": [
    "content = soup.findAll('tr', class_='greenHover')[0]\n",
    "# resultado = [result.find('a') for result in content]\n",
    "len(content)\n",
    "content"
   ]
  },
  {
   "cell_type": "code",
   "execution_count": 18,
   "metadata": {},
   "outputs": [
    {
     "name": "stdout",
     "output_type": "stream",
     "text": [
      "team name: Liverpool\n"
     ]
    }
   ],
   "source": [
    "# sample get name team\n",
    "team_name = content.findAll('a')[0].text\n",
    "print('team name: ' + team_name)"
   ]
  },
  {
   "cell_type": "code",
   "execution_count": 19,
   "metadata": {},
   "outputs": [
    {
     "name": "stdout",
     "output_type": "stream",
     "text": [
      "game and result: Leicester City - Liverpool 0:4\n"
     ]
    }
   ],
   "source": [
    "# sample get game and result\n",
    "print('game and result: ' + content.findAll('a')[1].get('title'))  "
   ]
  },
  {
   "cell_type": "code",
   "execution_count": 20,
   "metadata": {},
   "outputs": [
    {
     "data": {
      "text/plain": [
       "'4'"
      ]
     },
     "execution_count": 20,
     "metadata": {},
     "output_type": "execute_result"
    }
   ],
   "source": [
    "#get number goal team todo game\n",
    "find_team = content.findAll('a')[1].get('title').split('-')\n",
    "\n",
    "if (find_team[0].strip() == team_name):\n",
    "    number_space = content.findAll('a')[1].get('title').split(' ')\n",
    "    goal_todo_team = number_space[len(number_space)-1].split(':')[0]\n",
    "else:\n",
    "    goal_todo_team = content.findAll('a')[1].get('title').split(':')[1]\n",
    "\n",
    "goal_todo_team"
   ]
  },
  {
   "cell_type": "code",
   "execution_count": 21,
   "metadata": {},
   "outputs": [
    {
     "data": {
      "text/plain": [
       "'team_11'"
      ]
     },
     "execution_count": 21,
     "metadata": {},
     "output_type": "execute_result"
    }
   ],
   "source": [
    "# sample get id team\n",
    "soup.findAll('tr', class_='greenHover')[0].get('id')"
   ]
  },
  {
   "cell_type": "code",
   "execution_count": 22,
   "metadata": {},
   "outputs": [],
   "source": [
    "# ids_team = soup.findAll('tr', class_='greenHover')\n",
    "# print(ids_team[0].get('id'))"
   ]
  },
  {
   "cell_type": "code",
   "execution_count": 23,
   "metadata": {},
   "outputs": [
    {
     "name": "stdout",
     "output_type": "stream",
     "text": [
      "            Brand  Price\n",
      "0     Honda Civic  22000\n",
      "1  Toyota Corolla  25000\n",
      "2      Ford Focus  27000\n",
      "3         Audi A4  35000\n"
     ]
    }
   ],
   "source": [
    "#example insert data in dataframe\n",
    "import pandas as pd\n",
    "\n",
    "cars = {'Brand': ['Honda Civic','Toyota Corolla','Ford Focus','Audi A4'],\n",
    "        'Price': [22000,25000,27000,35000]\n",
    "        }\n",
    "\n",
    "df = pd.DataFrame(cars, columns = ['Brand', 'Price'])\n",
    "\n",
    "print (df)"
   ]
  },
  {
   "cell_type": "code",
   "execution_count": 24,
   "metadata": {},
   "outputs": [],
   "source": [
    "def getGoalTeamTodo(dataTeam):\n",
    "    team_name = dataTeam.findAll('a')[0].text\n",
    "    \n",
    "    str_goalTeamTodoOfGame = ''\n",
    "    \n",
    "    for x in range(1,6):\n",
    "        find_team = dataTeam.findAll('a')[x].get('title').split('-')\n",
    "\n",
    "        if (find_team[0].strip() == team_name):\n",
    "            number_space = dataTeam.findAll('a')[x].get('title').split(' ')\n",
    "            goal_todo_team = number_space[len(number_space)-1].split(':')[0]\n",
    "        else:\n",
    "            goal_todo_team = dataTeam.findAll('a')[x].get('title').split(':')[1]\n",
    "\n",
    "        if (str_goalTeamTodoOfGame == ''):\n",
    "            str_goalTeamTodoOfGame = goal_todo_team\n",
    "        else:\n",
    "            str_goalTeamTodoOfGame = str_goalTeamTodoOfGame + '|' + goal_todo_team\n",
    "    \n",
    "    return str_goalTeamTodoOfGame"
   ]
  },
  {
   "cell_type": "code",
   "execution_count": 25,
   "metadata": {},
   "outputs": [],
   "source": [
    "def getNameTeam(team):\n",
    "    return team.findAll('a')[0].text"
   ]
  },
  {
   "cell_type": "code",
   "execution_count": 26,
   "metadata": {},
   "outputs": [],
   "source": [
    "# create dataframe table teams and goals of games\n",
    "\n",
    "# columns\n",
    "columns = ['id_team', 'name_team', 'game1', 'game2', 'game3', 'game4', 'game5', 'id_team_next_game']\n",
    "\n",
    "df_table = pd.DataFrame(columns=columns)"
   ]
  },
  {
   "cell_type": "code",
   "execution_count": 27,
   "metadata": {},
   "outputs": [],
   "source": [
    "# get id of team next game\n",
    "def getIdTeamNextGame(team):\n",
    "    last_item_team = team.findAll('a')[len(team.findAll('a'))-1].get('id').split('_')\n",
    "    id_team = last_item_team[len(last_item_team)-1] \n",
    "    print(id_team)\n",
    "    #.split('-')\n",
    "    return 'team_' + id_team"
   ]
  },
  {
   "cell_type": "code",
   "execution_count": 28,
   "metadata": {},
   "outputs": [],
   "source": [
    "# insert data team in dataframe of table\n",
    "\n",
    "def insert(df, row):\n",
    "    insert_loc = df.index.max()\n",
    "\n",
    "    if pd.isna(insert_loc):\n",
    "        df.loc[0] = row\n",
    "    else:\n",
    "        df.loc[insert_loc + 1] = row"
   ]
  },
  {
   "cell_type": "code",
   "execution_count": 29,
   "metadata": {},
   "outputs": [],
   "source": [
    "def getDataTeams(soup):\n",
    "    for team in soup.findAll(attrs= {\"class\":\"greenHover\"}):\n",
    "        #print('id_team: ' + team.get('id') + ' name team: ' + getNameTeam(team) + ' goal team todo: ' + getGoalTeamTodo(team))\n",
    "        resultFiveLastGame = getGoalTeamTodo(team)\n",
    "        result_games = resultFiveLastGame.split('|')\n",
    "        # print(len(result_games))\n",
    "        #df_table.append({\n",
    "        #    'id_team':team.get('id'), \n",
    "        #    'name_team':getNameTeam(team), \n",
    "        #    'game1':result_games[0], \n",
    "        #    'game2':result_games[1], \n",
    "        #    'game3':result_games[2],\n",
    "        #    'game4':result_games[3],\n",
    "        #    'game5':result_games[4],\n",
    "        #    'id_team_next_game':[]}, ignore_index = True) \n",
    "        insert(df_table, [team.get('id'), getNameTeam(team), result_games[0], result_games[1], result_games[2], result_games[3], result_games[4], getIdTeamNextGame(team)])\n",
    "        \n",
    "\n",
    "        \n",
    "        "
   ]
  },
  {
   "cell_type": "code",
   "execution_count": 30,
   "metadata": {},
   "outputs": [
    {
     "name": "stdout",
     "output_type": "stream",
     "text": [
      "20\n",
      "40\n",
      "18\n",
      "1\n",
      "6\n",
      "11\n",
      "12\n",
      "59\n",
      "61\n",
      "7\n",
      "32\n",
      "8\n",
      "26\n",
      "13\n",
      "72\n",
      "30\n",
      "2\n",
      "43\n",
      "46\n",
      "17\n"
     ]
    }
   ],
   "source": [
    "getDataTeams(soup)\n"
   ]
  },
  {
   "cell_type": "code",
   "execution_count": 31,
   "metadata": {},
   "outputs": [
    {
     "data": {
      "text/html": [
       "<div>\n",
       "<style scoped>\n",
       "    .dataframe tbody tr th:only-of-type {\n",
       "        vertical-align: middle;\n",
       "    }\n",
       "\n",
       "    .dataframe tbody tr th {\n",
       "        vertical-align: top;\n",
       "    }\n",
       "\n",
       "    .dataframe thead th {\n",
       "        text-align: right;\n",
       "    }\n",
       "</style>\n",
       "<table border=\"1\" class=\"dataframe\">\n",
       "  <thead>\n",
       "    <tr style=\"text-align: right;\">\n",
       "      <th></th>\n",
       "      <th>id_team</th>\n",
       "      <th>name_team</th>\n",
       "      <th>game1</th>\n",
       "      <th>game2</th>\n",
       "      <th>game3</th>\n",
       "      <th>game4</th>\n",
       "      <th>game5</th>\n",
       "      <th>id_team_next_game</th>\n",
       "    </tr>\n",
       "  </thead>\n",
       "  <tbody>\n",
       "    <tr>\n",
       "      <th>0</th>\n",
       "      <td>team_11</td>\n",
       "      <td>Liverpool</td>\n",
       "      <td>4</td>\n",
       "      <td>1</td>\n",
       "      <td>2</td>\n",
       "      <td>1</td>\n",
       "      <td>2</td>\n",
       "      <td>team_20</td>\n",
       "    </tr>\n",
       "    <tr>\n",
       "      <th>1</th>\n",
       "      <td>team_12</td>\n",
       "      <td>Manchester City</td>\n",
       "      <td>2</td>\n",
       "      <td>2</td>\n",
       "      <td>2</td>\n",
       "      <td>6</td>\n",
       "      <td>2</td>\n",
       "      <td>team_40</td>\n",
       "    </tr>\n",
       "    <tr>\n",
       "      <th>2</th>\n",
       "      <td>team_30</td>\n",
       "      <td>Leicester City</td>\n",
       "      <td>0</td>\n",
       "      <td>2</td>\n",
       "      <td>3</td>\n",
       "      <td>1</td>\n",
       "      <td>1</td>\n",
       "      <td>team_18</td>\n",
       "    </tr>\n",
       "    <tr>\n",
       "      <th>3</th>\n",
       "      <td>team_7</td>\n",
       "      <td>Chelsea London</td>\n",
       "      <td>0</td>\n",
       "      <td>2</td>\n",
       "      <td>1</td>\n",
       "      <td>3</td>\n",
       "      <td>0</td>\n",
       "      <td>team_1</td>\n",
       "    </tr>\n",
       "    <tr>\n",
       "      <th>4</th>\n",
       "      <td>team_13</td>\n",
       "      <td>Manchester United</td>\n",
       "      <td>4</td>\n",
       "      <td>2</td>\n",
       "      <td>0</td>\n",
       "      <td>4</td>\n",
       "      <td>0</td>\n",
       "      <td>team_6</td>\n",
       "    </tr>\n",
       "    <tr>\n",
       "      <th>5</th>\n",
       "      <td>team_20</td>\n",
       "      <td>Wolverhampton Wanderers</td>\n",
       "      <td>3</td>\n",
       "      <td>0</td>\n",
       "      <td>1</td>\n",
       "      <td>1</td>\n",
       "      <td>3</td>\n",
       "      <td>team_11</td>\n",
       "    </tr>\n",
       "    <tr>\n",
       "      <th>6</th>\n",
       "      <td>team_40</td>\n",
       "      <td>Sheffield United</td>\n",
       "      <td>1</td>\n",
       "      <td>0</td>\n",
       "      <td>0</td>\n",
       "      <td>1</td>\n",
       "      <td>1</td>\n",
       "      <td>team_12</td>\n",
       "    </tr>\n",
       "    <tr>\n",
       "      <th>7</th>\n",
       "      <td>team_17</td>\n",
       "      <td>Tottenham Hotspur</td>\n",
       "      <td>2</td>\n",
       "      <td>2</td>\n",
       "      <td>0</td>\n",
       "      <td>0</td>\n",
       "      <td>0</td>\n",
       "      <td>team_59</td>\n",
       "    </tr>\n",
       "    <tr>\n",
       "      <th>8</th>\n",
       "      <td>team_26</td>\n",
       "      <td>Crystal Palace</td>\n",
       "      <td>2</td>\n",
       "      <td>1</td>\n",
       "      <td>1</td>\n",
       "      <td>1</td>\n",
       "      <td>2</td>\n",
       "      <td>team_61</td>\n",
       "    </tr>\n",
       "    <tr>\n",
       "      <th>9</th>\n",
       "      <td>team_1</td>\n",
       "      <td>Arsenal London</td>\n",
       "      <td>1</td>\n",
       "      <td>1</td>\n",
       "      <td>2</td>\n",
       "      <td>1</td>\n",
       "      <td>1</td>\n",
       "      <td>team_7</td>\n",
       "    </tr>\n",
       "    <tr>\n",
       "      <th>10</th>\n",
       "      <td>team_8</td>\n",
       "      <td>Everton</td>\n",
       "      <td>1</td>\n",
       "      <td>2</td>\n",
       "      <td>1</td>\n",
       "      <td>1</td>\n",
       "      <td>1</td>\n",
       "      <td>team_32</td>\n",
       "    </tr>\n",
       "    <tr>\n",
       "      <th>11</th>\n",
       "      <td>team_32</td>\n",
       "      <td>Newcastle United</td>\n",
       "      <td>1</td>\n",
       "      <td>1</td>\n",
       "      <td>0</td>\n",
       "      <td>1</td>\n",
       "      <td>1</td>\n",
       "      <td>team_8</td>\n",
       "    </tr>\n",
       "    <tr>\n",
       "      <th>12</th>\n",
       "      <td>team_61</td>\n",
       "      <td>Southampton</td>\n",
       "      <td>2</td>\n",
       "      <td>1</td>\n",
       "      <td>1</td>\n",
       "      <td>2</td>\n",
       "      <td>2</td>\n",
       "      <td>team_26</td>\n",
       "    </tr>\n",
       "    <tr>\n",
       "      <th>13</th>\n",
       "      <td>team_6</td>\n",
       "      <td>Burnley</td>\n",
       "      <td>0</td>\n",
       "      <td>0</td>\n",
       "      <td>1</td>\n",
       "      <td>0</td>\n",
       "      <td>2</td>\n",
       "      <td>team_13</td>\n",
       "    </tr>\n",
       "    <tr>\n",
       "      <th>14</th>\n",
       "      <td>team_46</td>\n",
       "      <td>Brighton &amp; Hove Albion</td>\n",
       "      <td>1</td>\n",
       "      <td>2</td>\n",
       "      <td>1</td>\n",
       "      <td>0</td>\n",
       "      <td>1</td>\n",
       "      <td>team_72</td>\n",
       "    </tr>\n",
       "    <tr>\n",
       "      <th>15</th>\n",
       "      <td>team_18</td>\n",
       "      <td>West Ham United</td>\n",
       "      <td>1</td>\n",
       "      <td>1</td>\n",
       "      <td>4</td>\n",
       "      <td>0</td>\n",
       "      <td>1</td>\n",
       "      <td>team_30</td>\n",
       "    </tr>\n",
       "    <tr>\n",
       "      <th>16</th>\n",
       "      <td>team_43</td>\n",
       "      <td>Watford</td>\n",
       "      <td>1</td>\n",
       "      <td>3</td>\n",
       "      <td>2</td>\n",
       "      <td>3</td>\n",
       "      <td>0</td>\n",
       "      <td>team_2</td>\n",
       "    </tr>\n",
       "    <tr>\n",
       "      <th>17</th>\n",
       "      <td>team_2</td>\n",
       "      <td>Aston Villa</td>\n",
       "      <td>1</td>\n",
       "      <td>0</td>\n",
       "      <td>2</td>\n",
       "      <td>1</td>\n",
       "      <td>1</td>\n",
       "      <td>team_43</td>\n",
       "    </tr>\n",
       "    <tr>\n",
       "      <th>18</th>\n",
       "      <td>team_72</td>\n",
       "      <td>Bournemouth</td>\n",
       "      <td>1</td>\n",
       "      <td>0</td>\n",
       "      <td>0</td>\n",
       "      <td>0</td>\n",
       "      <td>0</td>\n",
       "      <td>team_46</td>\n",
       "    </tr>\n",
       "    <tr>\n",
       "      <th>19</th>\n",
       "      <td>team_59</td>\n",
       "      <td>Norwich City</td>\n",
       "      <td>0</td>\n",
       "      <td>2</td>\n",
       "      <td>1</td>\n",
       "      <td>0</td>\n",
       "      <td>1</td>\n",
       "      <td>team_17</td>\n",
       "    </tr>\n",
       "  </tbody>\n",
       "</table>\n",
       "</div>"
      ],
      "text/plain": [
       "    id_team                name_team game1 game2 game3 game4 game5  \\\n",
       "0   team_11                Liverpool     4     1     2     1     2   \n",
       "1   team_12          Manchester City     2     2     2     6     2   \n",
       "2   team_30           Leicester City     0     2     3     1     1   \n",
       "3    team_7           Chelsea London     0     2     1     3     0   \n",
       "4   team_13        Manchester United     4     2     0     4     0   \n",
       "5   team_20  Wolverhampton Wanderers     3     0     1     1     3   \n",
       "6   team_40         Sheffield United     1     0     0     1     1   \n",
       "7   team_17        Tottenham Hotspur     2     2     0     0     0   \n",
       "8   team_26           Crystal Palace     2     1     1     1     2   \n",
       "9    team_1           Arsenal London     1     1     2     1     1   \n",
       "10   team_8                  Everton     1     2     1     1     1   \n",
       "11  team_32         Newcastle United     1     1     0     1     1   \n",
       "12  team_61              Southampton     2     1     1     2     2   \n",
       "13   team_6                  Burnley     0     0     1     0     2   \n",
       "14  team_46   Brighton & Hove Albion     1     2     1     0     1   \n",
       "15  team_18          West Ham United     1     1     4     0     1   \n",
       "16  team_43                  Watford     1     3     2     3     0   \n",
       "17   team_2              Aston Villa     1     0     2     1     1   \n",
       "18  team_72              Bournemouth     1     0     0     0     0   \n",
       "19  team_59             Norwich City     0     2     1     0     1   \n",
       "\n",
       "   id_team_next_game  \n",
       "0            team_20  \n",
       "1            team_40  \n",
       "2            team_18  \n",
       "3             team_1  \n",
       "4             team_6  \n",
       "5            team_11  \n",
       "6            team_12  \n",
       "7            team_59  \n",
       "8            team_61  \n",
       "9             team_7  \n",
       "10           team_32  \n",
       "11            team_8  \n",
       "12           team_26  \n",
       "13           team_13  \n",
       "14           team_72  \n",
       "15           team_30  \n",
       "16            team_2  \n",
       "17           team_43  \n",
       "18           team_46  \n",
       "19           team_17  "
      ]
     },
     "execution_count": 31,
     "metadata": {},
     "output_type": "execute_result"
    }
   ],
   "source": [
    "df_table"
   ]
  },
  {
   "cell_type": "code",
   "execution_count": 32,
   "metadata": {},
   "outputs": [
    {
     "name": "stdout",
     "output_type": "stream",
     "text": [
      "8\n",
      "8\n",
      "8\n",
      "8\n",
      "8\n",
      "8\n",
      "8\n",
      "8\n",
      "8\n",
      "8\n",
      "8\n",
      "8\n",
      "8\n",
      "8\n",
      "8\n",
      "8\n",
      "8\n",
      "8\n",
      "8\n",
      "8\n"
     ]
    }
   ],
   "source": [
    "for team in soup.findAll(attrs= {\"class\":\"greenHover\"}):\n",
    "    print(len(team.findAll('a')))"
   ]
  },
  {
   "cell_type": "code",
   "execution_count": null,
   "metadata": {},
   "outputs": [],
   "source": []
  }
 ],
 "metadata": {
  "kernelspec": {
   "display_name": "Python 3",
   "language": "python",
   "name": "python3"
  },
  "language_info": {
   "codemirror_mode": {
    "name": "ipython",
    "version": 3
   },
   "file_extension": ".py",
   "mimetype": "text/x-python",
   "name": "python",
   "nbconvert_exporter": "python",
   "pygments_lexer": "ipython3",
   "version": "3.7.3"
  }
 },
 "nbformat": 4,
 "nbformat_minor": 4
}
